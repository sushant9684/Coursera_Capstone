{
    "cells": [
        {
            "cell_type": "markdown",
            "metadata": {},
            "source": "# Capstone Project - The Battle of Neighborhoods (Week 1)"
        },
        {
            "cell_type": "markdown",
            "metadata": {},
            "source": "## Opening a new Indian Restaurant in New York - Manhattan"
        },
        {
            "cell_type": "markdown",
            "metadata": {
                "collapsed": true
            },
            "source": "### Introduction\n\nNew York City is one of the most populous city in USA.Indians in the New York City metropolitan region constitute one of the largest and fastest growing ethnicities in the New York City metropolitan area of the United States.Indian cuisine is very popular among Asian Indians in the United States. The growth in the New York City metropolitan region's \nAsian Indian populace has been accompanied by growth in the number of Indian restaurants, located both within and outside of traditional Indian enclaves, such that within New York City proper alone, there are hundreds of Indian restaurants.The idea of this project is find a location to open a new Indian  restaurant which serve authentic Indian food. \nAs India has different varieties of food from different region i.e. North Indian, South Indian, Pujabi, Hyderabadi; the USP is of this restaurant is to serve different authentic regional Indian food each day of week."
        },
        {
            "cell_type": "markdown",
            "metadata": {},
            "source": "The challenge to resolve is being able to find a location in Manhattan NY that doesn't have a popular Indian restaurant in the neighborhood. \nThe way to do this analysis is to explore Manhattan neighborhoods and find out wherever Indian restaurant is least common venue. "
        },
        {
            "cell_type": "markdown",
            "metadata": {},
            "source": "The audience of this project is a person or entity considering opening a Indian Restaurant in New York - Manhattan neighborhood. \nThe use of FourSquare data and mapping techniques combined with data analysis will help identify popularity of existing Indian \nRestaurant in New York - Manhattan neighborhood and give insights to potential buisness opportunity to open a new Indian restaurant in the right location."
        },
        {
            "cell_type": "markdown",
            "metadata": {},
            "source": "### Data"
        },
        {
            "cell_type": "markdown",
            "metadata": {},
            "source": "To do the data analysis of this project, we would needs data of NY neighborhood.\nData used for analysis is avaiable on web - https://geo.nyu.edu/catalog/nyu_2451_34572 .\nNY neighborhood has a total of 5 boroughs and 306 neighborhoods as per this dataset."
        },
        {
            "cell_type": "markdown",
            "metadata": {},
            "source": "For location data Foursquare dataset will be used. Foursquare is a technology company that built a massive dataset of location data. \nWe will use Foursquare and geopy data to map top venues for all Manhattan neighborhoods and clustered in groups.\n\nUse foursquare and geopy data to map the location of Manhattan neighborhood. , separately and on top of the above clustered map in order to be able to identify the Indian restaurant in the neighborhood."
        },
        {
            "cell_type": "markdown",
            "metadata": {},
            "source": "Further we would explore this dataset and find all the prospective locations wherever Indian restaurant has least popularity."
        },
        {
            "cell_type": "markdown",
            "metadata": {},
            "source": "Libraries Which are Used to Develope the Project:\nPandas: For creating and manipulating dataframes.\n\nFolium: Python visualization library would be used to visualize the neighborhoods cluster distribution of using interactive leaflet map.\n\nScikit Learn: For importing k-means clustering.\n\nJSON: Library to handle JSON files.\n\nXML: To separate data from presentation and XML stores data in plain text format.\n\nGeocoder: To retrieve Location Data.\n\nBeautiful Soup and Requests: To scrap and library to handle http requests.\n\nMatplotlib: Python Plotting Module."
        }
    ],
    "metadata": {
        "kernelspec": {
            "display_name": "Python 3.6",
            "language": "python",
            "name": "python3"
        },
        "language_info": {
            "codemirror_mode": {
                "name": "ipython",
                "version": 3
            },
            "file_extension": ".py",
            "mimetype": "text/x-python",
            "name": "python",
            "nbconvert_exporter": "python",
            "pygments_lexer": "ipython3",
            "version": "3.6.9"
        }
    },
    "nbformat": 4,
    "nbformat_minor": 1
}